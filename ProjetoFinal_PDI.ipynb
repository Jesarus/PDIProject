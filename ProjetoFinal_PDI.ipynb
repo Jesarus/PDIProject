{
  "nbformat": 4,
  "nbformat_minor": 0,
  "metadata": {
    "colab": {
      "provenance": []
    },
    "kernelspec": {
      "name": "python3",
      "display_name": "Python 3"
    },
    "language_info": {
      "name": "python"
    }
  },
  "cells": [
    {
      "cell_type": "code",
      "source": [
        "!pip install rasterio"
      ],
      "metadata": {
        "colab": {
          "base_uri": "https://localhost:8080/"
        },
        "id": "0nv2d9VCd4o_",
        "outputId": "d470f37b-3720-49c9-9f7d-e68b2ba18bb4"
      },
      "execution_count": null,
      "outputs": [
        {
          "output_type": "stream",
          "name": "stdout",
          "text": [
            "Requirement already satisfied: rasterio in /usr/local/lib/python3.10/dist-packages (1.4.1)\n",
            "Requirement already satisfied: affine in /usr/local/lib/python3.10/dist-packages (from rasterio) (2.4.0)\n",
            "Requirement already satisfied: attrs in /usr/local/lib/python3.10/dist-packages (from rasterio) (24.2.0)\n",
            "Requirement already satisfied: certifi in /usr/local/lib/python3.10/dist-packages (from rasterio) (2024.8.30)\n",
            "Requirement already satisfied: click>=4.0 in /usr/local/lib/python3.10/dist-packages (from rasterio) (8.1.7)\n",
            "Requirement already satisfied: cligj>=0.5 in /usr/local/lib/python3.10/dist-packages (from rasterio) (0.7.2)\n",
            "Requirement already satisfied: numpy>=1.24 in /usr/local/lib/python3.10/dist-packages (from rasterio) (1.26.4)\n",
            "Requirement already satisfied: click-plugins in /usr/local/lib/python3.10/dist-packages (from rasterio) (1.1.1)\n",
            "Requirement already satisfied: pyparsing in /usr/local/lib/python3.10/dist-packages (from rasterio) (3.1.4)\n"
          ]
        }
      ]
    },
    {
      "cell_type": "code",
      "execution_count": null,
      "metadata": {
        "id": "MgBHRJpFaTkE"
      },
      "outputs": [],
      "source": [
        "import rasterio\n",
        "from rasterio.plot import show\n",
        "import matplotlib.pyplot as plt\n",
        "import numpy as np\n"
      ]
    },
    {
      "cell_type": "code",
      "source": [
        "from google.colab import drive\n",
        "drive.mount('/content/drive')"
      ],
      "metadata": {
        "colab": {
          "base_uri": "https://localhost:8080/"
        },
        "id": "nw_jJzpzwU3T",
        "outputId": "885af4de-7603-4919-e161-fcd075b48f31"
      },
      "execution_count": null,
      "outputs": [
        {
          "output_type": "stream",
          "name": "stdout",
          "text": [
            "Mounted at /content/drive\n"
          ]
        }
      ]
    },
    {
      "cell_type": "markdown",
      "source": [
        "### Abrindo a Imagem\n"
      ],
      "metadata": {
        "id": "oYO0jnH_afnR"
      }
    },
    {
      "cell_type": "code",
      "source": [
        "# Caminho para o arquivo .tif\n",
        "caminho_da_imagem = '/content/drive/MyDrive/PDI/Landsat8_Thermal_Nordeste-0000000000-0000000000.tif'\n",
        "\n",
        "# Abrir o arquivo .tif com rasterio\n",
        "with rasterio.open(caminho_da_imagem) as src:\n",
        "    # Exibir a imagem\n",
        "    show(src)\n",
        "    plt.show()"
      ],
      "metadata": {
        "id": "IsCUP7n8adKn"
      },
      "execution_count": null,
      "outputs": []
    },
    {
      "cell_type": "markdown",
      "source": [
        "### Visualizar a banda da imagem\n"
      ],
      "metadata": {
        "id": "YbbHOlzmauL_"
      }
    },
    {
      "cell_type": "code",
      "source": [
        "# Abrir o arquivo .tif com rasterio\n",
        "with rasterio.open(caminho_da_imagem) as src:\n",
        "    # Obter o número de bandas\n",
        "    num_bands = src.count\n",
        "    print(f'A imagem tem {num_bands} bandas.')\n",
        "\n",
        "    # Visualizar cada banda separadamente\n",
        "    for band in range(1, num_bands + 1):  # As bandas são indexadas a partir de 1\n",
        "        # Ler a banda\n",
        "        band_data = src.read(band)\n",
        "\n",
        "        # Plotar a banda\n",
        "        plt.figure(figsize=(6, 6))\n",
        "        plt.imshow(band_data, cmap='gray')\n",
        "        plt.title(f'Banda {band}')\n",
        "        plt.axis('off')  # Remove os eixos para uma visualização mais limpa\n",
        "        plt.show()"
      ],
      "metadata": {
        "id": "IG5CuYLMawUu"
      },
      "execution_count": null,
      "outputs": []
    },
    {
      "cell_type": "markdown",
      "source": [
        "Visualizando valores de radiança e metadados da imagem\n",
        "\n",
        "---\n",
        "\n"
      ],
      "metadata": {
        "id": "ulbI5PVVa1bm"
      }
    },
    {
      "cell_type": "code",
      "source": [
        "# Abrir a imagem usando rasterio\n",
        "with rasterio.open(caminho_da_imagem) as src:\n",
        "    # Ler a primeira banda (supondo que seja a banda térmica)\n",
        "    radiancia = src.read(1)  # Lê a banda 1 da imagem\n",
        "\n",
        "    # Exibir estatísticas da radiança para entender a faixa de valores\n",
        "    print(f\"Estatísticas da Radiança:\")\n",
        "    print(f\"Valor mínimo: {np.nanmin(radiancia)}\")\n",
        "    print(f\"Valor máximo: {np.nanmax(radiancia)}\")\n",
        "    print(f\"Valor médio: {np.nanmean(radiancia)}\")\n",
        "\n",
        "    # Verificar quantos valores são menores ou iguais a zero\n",
        "    valores_invalidos = np.sum(radiancia <= 0)\n",
        "    print(f\"Número de valores inválidos (<= 0): {valores_invalidos}\")"
      ],
      "metadata": {
        "id": "Yh_teemkaxkN"
      },
      "execution_count": null,
      "outputs": []
    },
    {
      "cell_type": "code",
      "source": [
        "# Abrir a imagem e exibir os metadados\n",
        "with rasterio.open(caminho_da_imagem) as src:\n",
        "    # Exibir os metadados da imagem\n",
        "    print(\"Metadados da imagem:\")\n",
        "    print(src.meta)\n",
        "\n",
        "    # Verificar se há um valor de preenchimento (nodata) definido\n",
        "    if src.nodata is not None:\n",
        "        print(f\"Valor de preenchimento (nodata): {src.nodata}\")\n",
        "    else:\n",
        "        print(\"Nenhum valor de preenchimento (nodata) definido.\")"
      ],
      "metadata": {
        "id": "kO-cjVqjbHlB"
      },
      "execution_count": null,
      "outputs": []
    },
    {
      "cell_type": "markdown",
      "source": [
        "Normalizando as radiancias"
      ],
      "metadata": {
        "id": "pYPWvUUIbTC_"
      }
    },
    {
      "cell_type": "code",
      "source": [
        "# Fator de escala típico para a banda térmica do Landsat 8\n",
        "escala_radiancia = 0.0003342\n",
        "\n",
        "# Abrir a imagem usando rasterio\n",
        "with rasterio.open(caminho_da_imagem) as src:\n",
        "    # Ler a primeira banda (supondo que seja a banda térmica)\n",
        "    radiancia = src.read(1)  # Lê a banda 1 da imagem\n",
        "\n",
        "    # Exibir estatísticas da radiança antes do ajuste\n",
        "    print(f\"Estatísticas da Radiança original:\")\n",
        "    print(f\"Valor mínimo: {np.nanmin(radiancia)}\")\n",
        "    print(f\"Valor máximo: {np.nanmax(radiancia)}\")\n",
        "    print(f\"Valor médio: {np.nanmean(radiancia)}\")\n",
        "\n",
        "    # Aplicar o fator de escala à radiança\n",
        "    radiancia_ajustada = radiancia * escala_radiancia\n",
        "\n",
        "    # Exibir estatísticas da radiança ajustada\n",
        "    print(f\"Estatísticas da Radiança ajustada (após aplicar escala):\")\n",
        "    print(f\"Valor mínimo: {np.nanmin(radiancia_ajustada)}\")\n",
        "    print(f\"Valor máximo: {np.nanmax(radiancia_ajustada)}\")\n",
        "    print(f\"Valor médio: {np.nanmean(radiancia_ajustada)}\")"
      ],
      "metadata": {
        "id": "tiPmp2H-bWuI"
      },
      "execution_count": null,
      "outputs": []
    },
    {
      "cell_type": "markdown",
      "source": [
        "Verificando a temperatura"
      ],
      "metadata": {
        "id": "tQqt5shKba9G"
      }
    },
    {
      "cell_type": "code",
      "source": [
        "# Constantes do Landsat 8 para a Banda 10\n",
        "K1 = 774.8853  # W/(m² sr µm)\n",
        "K2 = 1321.0789  # K\n",
        "c2 = 1488  # µm·K (constante de Planck modificada)\n",
        "lambda_banda = 10.8  # µm (comprimento de onda para a banda 10)\n",
        "emissividade = 0.98  # Ajuste conforme necessário\n",
        "\n",
        "# Fator de escala típico para a banda térmica do Landsat 8\n",
        "escala_radiancia = 0.0003342\n",
        "\n",
        "# Abrir a imagem usando rasterio\n",
        "with rasterio.open(caminho_da_imagem) as src:\n",
        "    # Ler a primeira banda (supondo que seja a banda térmica)\n",
        "    radiancia = src.read(1)  # Lê a banda 1 da imagem\n",
        "\n",
        "    # Aplicar o fator de escala à radiança\n",
        "    radiancia_ajustada = radiancia * escala_radiancia\n",
        "\n",
        "    # Substituir valores nulos (zeros ou negativos) por NaN para evitar erros de log\n",
        "    radiancia_ajustada = np.where(radiancia_ajustada <= 0, np.nan, radiancia_ajustada)\n",
        "\n",
        "    # Calcular a Temperatura de Brilho (T_b) para cada pixel da imagem, ignorando NaNs\n",
        "    T_b = K2 / np.log((K1 / radiancia_ajustada) + 1)\n",
        "\n",
        "    # Calcular a Temperatura de Superfície (T) em Kelvin para cada pixel da imagem, ignorando NaNs\n",
        "    T_kelvin = T_b / (1 + ((lambda_banda * T_b) / c2) * np.log(emissividade))\n",
        "\n",
        "    # Converter para Celsius\n",
        "    T_celsius = T_kelvin - 273.15\n",
        "\n",
        "    # Calcular a média ignorando NaNs\n",
        "    T_kelvin_mean = np.nanmean(T_kelvin)\n",
        "    T_celsius_mean = np.nanmean(T_celsius)\n",
        "\n",
        "    # Mostrar o valor da temperatura de superfície em Kelvin\n",
        "    print(f'Temperatura média de Superfície (Kelvin) para a imagem: {T_kelvin_mean:.2f} K')\n",
        "\n",
        "    # Mostrar o valor da temperatura de superfície em Celsius\n",
        "    print(f'Temperatura média de Superfície (Celsius) para a imagem: {T_celsius_mean:.2f} °C')"
      ],
      "metadata": {
        "id": "A5OHg5Kobc9E"
      },
      "execution_count": null,
      "outputs": []
    }
  ]
}